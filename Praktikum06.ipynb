{
  "nbformat": 4,
  "nbformat_minor": 0,
  "metadata": {
    "colab": {
      "provenance": [],
      "authorship_tag": "ABX9TyOHQO36p50fRLtHunt8frlM",
      "include_colab_link": true
    },
    "kernelspec": {
      "name": "python3",
      "display_name": "Python 3"
    },
    "language_info": {
      "name": "python"
    }
  },
  "cells": [
    {
      "cell_type": "markdown",
      "metadata": {
        "id": "view-in-github",
        "colab_type": "text"
      },
      "source": [
        "<a href=\"https://colab.research.google.com/github/AnnisaFarikha/Algoritma/blob/main/Praktikum06.ipynb\" target=\"_parent\"><img src=\"https://colab.research.google.com/assets/colab-badge.svg\" alt=\"Open In Colab\"/></a>"
      ]
    },
    {
      "cell_type": "markdown",
      "source": [
        "#Membuat dan Mengakses List 1D"
      ],
      "metadata": {
        "id": "xGUI7JwDq8U7"
      }
    },
    {
      "cell_type": "code",
      "source": [
        "mahasiswa = [\"Andi\", \"Budi\", \"Cici\"]\n",
        "print(mahasiswa[0])  #Andi\n",
        "print(mahasiswa[1])  #Budi\n",
        "print(mahasiswa[-1]) #Cici"
      ],
      "metadata": {
        "colab": {
          "base_uri": "https://localhost:8080/"
        },
        "id": "x1lT68jrrFVx",
        "outputId": "fa20c1aa-971e-4494-dc79-e0d727cd4792"
      },
      "execution_count": null,
      "outputs": [
        {
          "output_type": "stream",
          "name": "stdout",
          "text": [
            "Andi\n",
            "Budi\n",
            "Cici\n"
          ]
        }
      ]
    },
    {
      "cell_type": "markdown",
      "source": [
        "#Update & Operasi Dasar List"
      ],
      "metadata": {
        "id": "qqADFX6Ltmoj"
      }
    },
    {
      "cell_type": "code",
      "source": [
        "nilai = [85, 90, 78]\n",
        "nilai[1] = 95\n",
        "nilai.append(100)\n",
        "nilai.remove(78)\n",
        "print(nilai)"
      ],
      "metadata": {
        "colab": {
          "base_uri": "https://localhost:8080/"
        },
        "id": "MohIUkJctxQJ",
        "outputId": "11267664-6c8a-404e-bb39-a7ef9d737746"
      },
      "execution_count": null,
      "outputs": [
        {
          "output_type": "stream",
          "name": "stdout",
          "text": [
            "[85, 95, 100]\n"
          ]
        }
      ]
    },
    {
      "cell_type": "markdown",
      "source": [
        "#Slicing List"
      ],
      "metadata": {
        "id": "Gs-xqi4HuwdG"
      }
    },
    {
      "cell_type": "code",
      "source": [
        "nilai = [85, 90, 78, 92, 88]\n",
        "print(nilai[0:3]) #[85, 90, 78]\n",
        "print(nilai[2:])  #[78, 92, 88]\n",
        "print(nilai[:3])  #[85, 90, 78]"
      ],
      "metadata": {
        "colab": {
          "base_uri": "https://localhost:8080/"
        },
        "id": "h1PGDkxIu1B8",
        "outputId": "cc754fb2-f92e-4833-c5da-a91307fcf38c"
      },
      "execution_count": null,
      "outputs": [
        {
          "output_type": "stream",
          "name": "stdout",
          "text": [
            "[85, 90, 78]\n",
            "[78, 92, 88]\n",
            "[85, 90, 78]\n"
          ]
        }
      ]
    },
    {
      "cell_type": "markdown",
      "source": [
        "#List 2D (Matriks)"
      ],
      "metadata": {
        "id": "809u1k6Lwhdc"
      }
    },
    {
      "cell_type": "code",
      "source": [
        "matriks = [\n",
        "    [1, 2, 3],\n",
        "    [4, 5, 6],\n",
        "    [7, 8, 9]\n",
        "]\n",
        "\n",
        "print(matriks[0] [0]) #1\n",
        "print(matriks[1] [2]) #6\n",
        "print(matriks [2])    #[7, 8, 9]"
      ],
      "metadata": {
        "colab": {
          "base_uri": "https://localhost:8080/"
        },
        "id": "NqGSFLYRw6dS",
        "outputId": "26444d93-f607-4f85-d968-db302b901869"
      },
      "execution_count": null,
      "outputs": [
        {
          "output_type": "stream",
          "name": "stdout",
          "text": [
            "1\n",
            "6\n",
            "[7, 8, 9]\n"
          ]
        }
      ]
    },
    {
      "cell_type": "markdown",
      "source": [
        "#Operasi pada List 2D"
      ],
      "metadata": {
        "id": "OIZTr2M_yGwp"
      }
    },
    {
      "cell_type": "code",
      "source": [
        "A = [[1, 2, 3], [4, 5, 6]]\n",
        "B = [[7, 8, 9], [10, 11, 12]]\n",
        "C = []\n",
        "\n",
        "for i in range(len(A)):\n",
        "    baris = []\n",
        "    for j in range(len(A[0])):\n",
        "        baris.append(A[i][j] + B[i][j])\n",
        "    C.append(baris)\n",
        "\n",
        "print(C)"
      ],
      "metadata": {
        "colab": {
          "base_uri": "https://localhost:8080/"
        },
        "id": "ARnP34uIyLuM",
        "outputId": "e8a7eace-58d6-4994-8c38-10cde8cb05c6"
      },
      "execution_count": null,
      "outputs": [
        {
          "output_type": "stream",
          "name": "stdout",
          "text": [
            "[[8, 10, 12], [14, 16, 18]]\n"
          ]
        }
      ]
    },
    {
      "cell_type": "markdown",
      "source": [
        "#Studi Kasus: Pengelolaan Nilai Mahasiswa"
      ],
      "metadata": {
        "id": "zoYUWM5J01wV"
      }
    },
    {
      "cell_type": "code",
      "source": [
        "nilai = [\n",
        "    [80, 90, 85],\n",
        "    [70, 75, 80],\n",
        "    [88, 92, 84]\n",
        "]\n",
        "\n",
        "for i, baris in enumerate(nilai, start=1):\n",
        "    rata = sum(baris) / len(baris)\n",
        "    print(f\"Rata-rata mahasiswa {i}: {rata:.2f}\")"
      ],
      "metadata": {
        "colab": {
          "base_uri": "https://localhost:8080/"
        },
        "id": "pJue_CtL07WU",
        "outputId": "f9680a3f-c4f5-4e46-e0e8-960d1b20c0cc"
      },
      "execution_count": null,
      "outputs": [
        {
          "output_type": "stream",
          "name": "stdout",
          "text": [
            "Rata-rata mahasiswa 1: 85.00\n",
            "Rata-rata mahasiswa 2: 75.00\n",
            "Rata-rata mahasiswa 3: 88.00\n"
          ]
        }
      ]
    },
    {
      "cell_type": "markdown",
      "source": [
        "#Tugas 3: Akses Elemen List"
      ],
      "metadata": {
        "id": "6BtduiBIZjJG"
      }
    },
    {
      "cell_type": "code",
      "source": [
        "mahasiswa = [\"Reta\", \"Aini\", \"Kyla\", \"Herdin\", \"Sean\"]\n",
        "\n",
        "print(\"Nama pertama:\", mahasiswa[0])\n",
        "print(\"Nama terakhir:\", mahasiswa[-1])\n",
        "print(\"Nama pada indeks ke-2:\", mahasiswa[2])"
      ],
      "metadata": {
        "colab": {
          "base_uri": "https://localhost:8080/"
        },
        "id": "pHizIzMcZsA0",
        "outputId": "5898f262-6576-443c-873f-e4db01c65c61"
      },
      "execution_count": null,
      "outputs": [
        {
          "output_type": "stream",
          "name": "stdout",
          "text": [
            "Nama pertama: Reta\n",
            "Nama terakhir: Sean\n",
            "Nama pada indeks ke-2: Kyla\n"
          ]
        }
      ]
    },
    {
      "cell_type": "markdown",
      "source": [
        "#Tugas 4: Operasi Dasar List"
      ],
      "metadata": {
        "id": "aIAV8rTqamHE"
      }
    },
    {
      "cell_type": "code",
      "source": [
        "nilai = [70, 75, 80]\n",
        "\n",
        "nilai[1] = 85\n",
        "nilai.append(90)\n",
        "nilai.remove(70)\n",
        "\n",
        "print(\"Hasil akhir:\", nilai)"
      ],
      "metadata": {
        "colab": {
          "base_uri": "https://localhost:8080/"
        },
        "id": "kg4xdiGoatcp",
        "outputId": "6545be8d-fc80-49ba-85ca-6f2c2fcd5b8e"
      },
      "execution_count": null,
      "outputs": [
        {
          "output_type": "stream",
          "name": "stdout",
          "text": [
            "Hasil akhir: [85, 80, 90]\n"
          ]
        }
      ]
    },
    {
      "cell_type": "markdown",
      "source": [
        "#Tugas 5: Slicing List"
      ],
      "metadata": {
        "id": "Bu6OX_VVcgN2"
      }
    },
    {
      "cell_type": "code",
      "source": [
        "angka = list(range(1, 11))\n",
        "\n",
        "print(\"3 elemen pertama:\", angka[0:3])\n",
        "print(\"4 elemen terakhir:\", angka[-4:])\n",
        "print(\"Elemen indeks genap:\", angka[1::2])  #indeks 0,2,4,..."
      ],
      "metadata": {
        "colab": {
          "base_uri": "https://localhost:8080/"
        },
        "id": "RLLAVd4Jc5Cb",
        "outputId": "35b9c184-ab47-4f8c-baba-484e88c7cbfa"
      },
      "execution_count": null,
      "outputs": [
        {
          "output_type": "stream",
          "name": "stdout",
          "text": [
            "3 elemen pertama: [1, 2, 3]\n",
            "4 elemen terakhir: [7, 8, 9, 10]\n",
            "Elemen indeks genap: [2, 4, 6, 8, 10]\n"
          ]
        }
      ]
    },
    {
      "cell_type": "markdown",
      "source": [
        "#Tugas 6: List 2D - Matriks"
      ],
      "metadata": {
        "id": "hqCYEahIkUxl"
      }
    },
    {
      "cell_type": "code",
      "source": [
        "matriks = [\n",
        "    [1, 2, 3],\n",
        "    [4, 5, 6]\n",
        "]\n",
        "\n",
        "print(\"Baris 1 kolom 2:\", matriks[0][1])\n",
        "print(\"Baris 2 kolom 3:\", matriks[1][2])\n",
        "print(\"Seluruh baris pertama:\", matriks[0])"
      ],
      "metadata": {
        "colab": {
          "base_uri": "https://localhost:8080/"
        },
        "id": "8eRHRT_kkjLN",
        "outputId": "7da313f1-a11b-451a-95f0-e4481799cdc9"
      },
      "execution_count": null,
      "outputs": [
        {
          "output_type": "stream",
          "name": "stdout",
          "text": [
            "Baris 1 kolom 2: 2\n",
            "Baris 2 kolom 3: 6\n",
            "Seluruh baris pertama: [1, 2, 3]\n"
          ]
        }
      ]
    },
    {
      "cell_type": "markdown",
      "source": [
        "#Tugas 7: Operasi Matriks 2D"
      ],
      "metadata": {
        "id": "J14rxPn1mF3E"
      }
    },
    {
      "cell_type": "code",
      "source": [
        "A = [[1, 2], [3, 4]]\n",
        "B = [[5, 6], [7, 8]]\n",
        "C = []\n",
        "\n",
        "for i in range(len(A)):\n",
        "    baris = []\n",
        "    for j in range(len(A[0])):\n",
        "        baris.append(A[i][j] + B[i][j])\n",
        "    C.append(baris)\n",
        "\n",
        "print(\"Hasil penjumlahan matriks:\")\n",
        "print(C)"
      ],
      "metadata": {
        "colab": {
          "base_uri": "https://localhost:8080/"
        },
        "id": "KMeA9iENmPTr",
        "outputId": "1d3b18b2-e750-491f-ea83-77f9c97e224a"
      },
      "execution_count": null,
      "outputs": [
        {
          "output_type": "stream",
          "name": "stdout",
          "text": [
            "Hasil penjumlahan matriks:\n",
            "[[6, 8], [10, 12]]\n"
          ]
        }
      ]
    },
    {
      "cell_type": "markdown",
      "source": [
        "#Tugas 8: Rata-rata Nilai Mahasiswa"
      ],
      "metadata": {
        "id": "hPR8Keqe7gaR"
      }
    },
    {
      "cell_type": "code",
      "source": [
        "nilai = [\n",
        "    [75, 80, 85],\n",
        "    [60, 70, 65],\n",
        "    [90, 95, 92]\n",
        "]\n",
        "\n",
        "for i, baris in enumerate(nilai, start=1):\n",
        "    rata = sum(baris) / len(baris)\n",
        "    print(f\"Rata-rata mahasiswa {i}: {rata:.2f}\")"
      ],
      "metadata": {
        "colab": {
          "base_uri": "https://localhost:8080/"
        },
        "id": "OWpOP_fC7soQ",
        "outputId": "05e50447-c0cc-4517-97e5-a463fb7b20c5"
      },
      "execution_count": null,
      "outputs": [
        {
          "output_type": "stream",
          "name": "stdout",
          "text": [
            "Rata-rata mahasiswa 1: 80.00\n",
            "Rata-rata mahasiswa 2: 65.00\n",
            "Rata-rata mahasiswa 3: 92.33\n"
          ]
        }
      ]
    },
    {
      "cell_type": "markdown",
      "source": [
        "#Tugas 9: Studi Kasus - Data Toko"
      ],
      "metadata": {
        "id": "RFD5u_728ks3"
      }
    },
    {
      "cell_type": "code",
      "source": [
        "stok = [\n",
        "    [\"Buku\", 20],\n",
        "    [\"Pulpen\", 35],\n",
        "    [\"Penghapus\", 15]\n",
        "]\n",
        "\n",
        "print(\"Daftar Stok Barang:\")\n",
        "for barang in stok:\n",
        "    print(f\"{barang[0]}: {barang[1]}\")\n",
        "\n",
        "# mencari stok terbanyak\n",
        "terbanyak = max(stok, key=lambda x: x[1])\n",
        "print(\"\\nBarang dengan stok terbanyak:\", terbanyak[0], \"-\", terbanyak[1])"
      ],
      "metadata": {
        "colab": {
          "base_uri": "https://localhost:8080/"
        },
        "id": "xnlj2ZDV8slX",
        "outputId": "1f441286-82c1-4af9-b47c-3a0773e35d54"
      },
      "execution_count": null,
      "outputs": [
        {
          "output_type": "stream",
          "name": "stdout",
          "text": [
            "Daftar Stok Barang:\n",
            "Buku: 20\n",
            "Pulpen: 35\n",
            "Penghapus: 15\n",
            "\n",
            "Barang dengan stok terbanyak: Pulpen - 35\n"
          ]
        }
      ]
    }
  ]
}