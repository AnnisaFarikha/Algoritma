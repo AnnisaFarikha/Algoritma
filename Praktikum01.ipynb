{
  "nbformat": 4,
  "nbformat_minor": 0,
  "metadata": {
    "colab": {
      "provenance": [],
      "authorship_tag": "ABX9TyNn//mZGLhurd14YhSr+Dfh",
      "include_colab_link": true
    },
    "kernelspec": {
      "name": "python3",
      "display_name": "Python 3"
    },
    "language_info": {
      "name": "python"
    }
  },
  "cells": [
    {
      "cell_type": "markdown",
      "metadata": {
        "id": "view-in-github",
        "colab_type": "text"
      },
      "source": [
        "<a href=\"https://colab.research.google.com/github/AnnisaFarikha/Algoritma/blob/main/Praktikum01.ipynb\" target=\"_parent\"><img src=\"https://colab.research.google.com/assets/colab-badge.svg\" alt=\"Open In Colab\"/></a>"
      ]
    },
    {
      "cell_type": "markdown",
      "source": [
        "#Menghitung Luas Persegi Panjang"
      ],
      "metadata": {
        "id": "KDFrDssJ602O"
      }
    },
    {
      "cell_type": "code",
      "source": [
        "p=int(input(\"Masukkan panjang: \"))\n",
        "l=int(input(\"Masukkan lebar: \"))\n",
        "luas=p*l\n",
        "print(\"Luas persegi panjang =\", luas)"
      ],
      "metadata": {
        "colab": {
          "base_uri": "https://localhost:8080/"
        },
        "id": "d_ijhLJ266Zf",
        "outputId": "25fd4692-1850-4116-c7da-447d117c1993"
      },
      "execution_count": null,
      "outputs": [
        {
          "output_type": "stream",
          "name": "stdout",
          "text": [
            "Masukkan panjang: 12\n",
            "Masukkan lebar: 6\n",
            "Luas persegi panjang = 72\n"
          ]
        }
      ]
    },
    {
      "cell_type": "markdown",
      "source": [
        "#Menghitung Luas Segitiga"
      ],
      "metadata": {
        "id": "xnMBHmEd9XSt"
      }
    },
    {
      "cell_type": "code",
      "source": [
        "import math\n",
        "\n",
        "a=float(input(\"Masukkan sisi a: \"))\n",
        "b=float(input(\"Masukkan sisi b: \"))\n",
        "c=float(input(\"Masukkan sisi c: \"))\n",
        "\n",
        "s=(a+b+c)/2\n",
        "luas = math.sqrt(s * (s - a) * (s - b) * (s - c))\n",
        "print(\"Luas segitiga =\", luas)"
      ],
      "metadata": {
        "colab": {
          "base_uri": "https://localhost:8080/"
        },
        "id": "3ODvOzFa9bjN",
        "outputId": "7a5de9e1-8f9e-42b1-ff38-f8e9c45f4e42"
      },
      "execution_count": null,
      "outputs": [
        {
          "output_type": "stream",
          "name": "stdout",
          "text": [
            "Masukkan sisi a: 2\n",
            "Masukkan sisi b: 4\n",
            "Masukkan sisi c: 6\n",
            "Luas segitiga = 0.0\n"
          ]
        }
      ]
    },
    {
      "cell_type": "markdown",
      "source": [
        "#Konversi Suhu Celcius ke Fahrenheit"
      ],
      "metadata": {
        "id": "AsFAXRu9DYSe"
      }
    },
    {
      "cell_type": "code",
      "source": [
        "c=float(input(\"Masukkan suhu (*C): \"))\n",
        "f=(c*9/5)+32\n",
        "print(\"Hasil konversi=\",f,\"*F\")"
      ],
      "metadata": {
        "colab": {
          "base_uri": "https://localhost:8080/"
        },
        "id": "pvDelGzfDkZX",
        "outputId": "978bd375-0a1f-4443-b54e-22622dbeb1e6"
      },
      "execution_count": null,
      "outputs": [
        {
          "output_type": "stream",
          "name": "stdout",
          "text": [
            "Masukkan suhu (*C): 22\n",
            "Hasil konversi= 71.6 *F\n"
          ]
        }
      ]
    },
    {
      "cell_type": "markdown",
      "source": [
        "#Menghitung Umur Berdasarkan Tahun Lahir"
      ],
      "metadata": {
        "id": "6_hkIb5wE9wR"
      }
    },
    {
      "cell_type": "code",
      "source": [
        "tahun_lahir=int(input(\"Masukkan tahun lahir: \"))\n",
        "tahun_sekarang=2025\n",
        "umur=tahun_sekarang-tahun_lahir\n",
        "print(\"Umur anda=\",umur,\"tahun\")\n"
      ],
      "metadata": {
        "colab": {
          "base_uri": "https://localhost:8080/"
        },
        "id": "qFRbmr-QFGay",
        "outputId": "df4ce4db-067c-4118-9738-966c9a3f5ded"
      },
      "execution_count": null,
      "outputs": [
        {
          "output_type": "stream",
          "name": "stdout",
          "text": [
            "Masukkan tahun lahir: 2006\n",
            "Umur anda= 19 tahun\n"
          ]
        }
      ]
    },
    {
      "cell_type": "markdown",
      "source": [
        "#Menghitung Luas Lingkaran"
      ],
      "metadata": {
        "id": "QVnUnZ9I6dkc"
      }
    },
    {
      "cell_type": "code",
      "source": [
        "import math\n",
        "r=float(input(\"Masukkan jari-jari lingkaran: \"))\n",
        "luas=math.pi*r*r\n",
        "print(\"Luas lingkaran=\", luas)\n"
      ],
      "metadata": {
        "colab": {
          "base_uri": "https://localhost:8080/"
        },
        "id": "1brBIW9Q7PBj",
        "outputId": "e76bf167-506d-4c08-b7bc-737aa0d52d5d"
      },
      "execution_count": null,
      "outputs": [
        {
          "output_type": "stream",
          "name": "stdout",
          "text": [
            "Masukkan jari-jari lingkaran: 18\n",
            "Luas lingkaran= 1017.8760197630929\n"
          ]
        }
      ]
    },
    {
      "cell_type": "markdown",
      "source": [
        "#Penjumlahan Tiga Bilangan"
      ],
      "metadata": {
        "id": "skYMovjs8zLi"
      }
    },
    {
      "cell_type": "code",
      "source": [
        "a=int(input(\"Masukkan bilangan pertama: \"))\n",
        "b=int(input(\"Masukkan bilangan kedua: \"))\n",
        "c=int(input(\"Masukkan bilangan ketiga: \"))\n",
        "jumlah=a+b+c\n",
        "print(\"Jumlah=\", jumlah)\n",
        "\n"
      ],
      "metadata": {
        "colab": {
          "base_uri": "https://localhost:8080/"
        },
        "id": "Lbq2J2fJ_hdu",
        "outputId": "d22cbebc-fe3f-4e96-bfd2-5f8514f1c4f7"
      },
      "execution_count": null,
      "outputs": [
        {
          "output_type": "stream",
          "name": "stdout",
          "text": [
            "Masukkan bilangan pertama: 12\n",
            "Masukkan bilangan kedua: 26\n",
            "Masukkan bilangan ketiga: 6\n",
            "Jumlah= 44\n"
          ]
        }
      ]
    },
    {
      "cell_type": "markdown",
      "source": [
        "#Menghitung Volume Balok"
      ],
      "metadata": {
        "id": "2XNMRAZh01DE"
      }
    },
    {
      "cell_type": "code",
      "source": [
        "#Menerima input dari pengguna\n",
        "panjang=float(input(\"Masukkan panjang balok: \"))\n",
        "lebar=float(input(\"Masukkan lebar balok: \"))\n",
        "tinggi=float(input(\"Masukkan tinggi balok: \"))\n",
        "\n",
        "#Menghitung volume\n",
        "volume=panjang*lebar*tinggi\n",
        "\n",
        "#Menampilkan hasil\n",
        "print(f\"Volume balok adalah: {volume:.2f}\")\n",
        "#Menggunakan .2f untuk membulatkan hasil menjadi 2 angka desimal"
      ],
      "metadata": {
        "colab": {
          "base_uri": "https://localhost:8080/"
        },
        "id": "TLJdDrcJ0_6M",
        "outputId": "11fcbca6-b895-446e-c9cc-510164806954"
      },
      "execution_count": null,
      "outputs": [
        {
          "output_type": "stream",
          "name": "stdout",
          "text": [
            "Masukkan panjang balok: 20\n",
            "Masukkan lebar balok: 10\n",
            "Masukkan tinggi balok: 5\n",
            "Volume balok adalah: 1000.00\n"
          ]
        }
      ]
    },
    {
      "cell_type": "markdown",
      "source": [
        "#Konversi Waktu (Detik ke Jam:Menit:Detik)"
      ],
      "metadata": {
        "id": "IUjdjCSU20e4"
      }
    },
    {
      "cell_type": "code",
      "source": [
        "#Menerima input total detik dari pengguna\n",
        "total_detik=int(input(\"Masukkan total detik: \"))\n",
        "\n",
        "#Menghitung jam, menit, dan detik\n",
        "jam=total_detik//3600\n",
        "sisa_detik=total_detik%3600\n",
        "menit=sisa_detik//60\n",
        "detik=sisa_detik%60\n",
        "\n",
        "#Menampilkan hasil\n",
        "print(f\"Konversi waktu: {jam} jam, {menit} menit, {detik} detik.\")"
      ],
      "metadata": {
        "colab": {
          "base_uri": "https://localhost:8080/"
        },
        "id": "9OmUQjAI3FFC",
        "outputId": "dfa640c9-1be3-4fac-ef2b-7a21ffd48b26"
      },
      "execution_count": null,
      "outputs": [
        {
          "output_type": "stream",
          "name": "stdout",
          "text": [
            "Masukkan total detik: 6000\n",
            "Konversi waktu: 1 jam, 40 menit, 0 detik.\n"
          ]
        }
      ]
    },
    {
      "cell_type": "markdown",
      "source": [
        "#Rata-rata Nilai Tiga Mata Kuliah"
      ],
      "metadata": {
        "id": "6_TSXIfk4ZcC"
      }
    },
    {
      "cell_type": "code",
      "source": [
        "#Menerima input tiga nilai dari pengguna\n",
        "nilai1=float(input(\"Masukkan nilai mata kuliah 1: \"))\n",
        "nilai2=float(input(\"Masukkan nilai mata kuliah 2: \"))\n",
        "nilai3=float(input(\"Masukkan nilai mata kuliah 3: \"))\n",
        "\n",
        "#Menghitung rata-rata\n",
        "rata_rata=(nilai1+nilai2+nilai3)/3\n",
        "\n",
        "#Menentukan kelulusan\n",
        "if rata_rata>=60:\n",
        "  status=\"Lulus\"\n",
        "else:\n",
        "  status=\"Tidak Lulus\"\n",
        "\n",
        "#Menampilkan hasil\n",
        "print(f\"Rata-rata nilai: {rata_rata:.2f}\")\n",
        "print(f\"Status: {status}\")"
      ],
      "metadata": {
        "colab": {
          "base_uri": "https://localhost:8080/"
        },
        "id": "nlnyMppB4no0",
        "outputId": "44aa16a4-f1fd-47fe-b330-18c7c0b17326"
      },
      "execution_count": null,
      "outputs": [
        {
          "output_type": "stream",
          "name": "stdout",
          "text": [
            "Masukkan nilai mata kuliah 1: 90\n",
            "Masukkan nilai mata kuliah 2: 98\n",
            "Masukkan nilai mata kuliah 3: 80\n",
            "Rata-rata nilai: 89.33\n",
            "Status: Lulus\n"
          ]
        }
      ]
    },
    {
      "cell_type": "markdown",
      "source": [
        "#Menghitung Diskon Belanja"
      ],
      "metadata": {
        "id": "zynS4zCm6y9v"
      }
    },
    {
      "cell_type": "code",
      "source": [
        "#Menerima input total belanja dari pengguna\n",
        "total_belanja=float(input(\"Masukkan total belanja: \"))\n",
        "\n",
        "#Menentukan diskon berdasarkan kondisi\n",
        "if total_belanja>=500000:\n",
        "  diskon=0.20\n",
        "elif total_belanja>=250000:\n",
        "  diskon=0.10\n",
        "else:\n",
        "  diskon=0.0\n",
        "\n",
        "#Menghitung total bayar setelah diskon\n",
        "total_bayar=total_belanja-(total_belanja*diskon)\n",
        "\n",
        "#Menampilkan hasil\n",
        "print(f\"Total belanja: Rp{total_belanja:,.2f}\")\n",
        "print(f\"Diskon yang didapat: {diskon*100:.0f}%\")\n",
        "print(f\"Total yang harus dibayar: Rp{total_bayar:,.2f}\")"
      ],
      "metadata": {
        "colab": {
          "base_uri": "https://localhost:8080/"
        },
        "id": "kNbdMRfe648d",
        "outputId": "0451411e-2448-4ec0-bd7a-97ee2891277e"
      },
      "execution_count": null,
      "outputs": [
        {
          "output_type": "stream",
          "name": "stdout",
          "text": [
            "Masukkan total belanja: 800000\n",
            "Total belanja: Rp800,000.00\n",
            "Diskon yang didapat: 20%\n",
            "Total yang harus dibayar: Rp640,000.00\n"
          ]
        }
      ]
    }
  ]
}