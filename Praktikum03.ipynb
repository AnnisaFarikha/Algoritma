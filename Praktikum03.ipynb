{
  "nbformat": 4,
  "nbformat_minor": 0,
  "metadata": {
    "colab": {
      "provenance": [],
      "authorship_tag": "ABX9TyNaQxShMTaz+KSK5muSj+J/",
      "include_colab_link": true
    },
    "kernelspec": {
      "name": "python3",
      "display_name": "Python 3"
    },
    "language_info": {
      "name": "python"
    }
  },
  "cells": [
    {
      "cell_type": "markdown",
      "metadata": {
        "id": "view-in-github",
        "colab_type": "text"
      },
      "source": [
        "<a href=\"https://colab.research.google.com/github/AnnisaFarikha/Algoritma/blob/main/Praktikum03.ipynb\" target=\"_parent\"><img src=\"https://colab.research.google.com/assets/colab-badge.svg\" alt=\"Open In Colab\"/></a>"
      ]
    },
    {
      "cell_type": "code",
      "execution_count": null,
      "metadata": {
        "id": "seyyE-pEGDp4"
      },
      "outputs": [],
      "source": []
    },
    {
      "cell_type": "markdown",
      "source": [
        "#If Sederhana"
      ],
      "metadata": {
        "id": "f9Yf7bjOGjas"
      }
    },
    {
      "cell_type": "code",
      "source": [
        "nilai = int(input(\"Masukkan nilai ujian: \"))\n",
        "if nilai >= 60:\n",
        "    print(\"Anda LULUS\")"
      ],
      "metadata": {
        "colab": {
          "base_uri": "https://localhost:8080/"
        },
        "id": "FWmVH9oeGr1R",
        "outputId": "0222ba6a-d3d3-4f4f-c622-e0eba67e90a7"
      },
      "execution_count": 1,
      "outputs": [
        {
          "output_type": "stream",
          "name": "stdout",
          "text": [
            "Masukkan nilai ujian: 70\n",
            "Anda LULUS\n"
          ]
        }
      ]
    },
    {
      "cell_type": "markdown",
      "source": [
        "#If-Else"
      ],
      "metadata": {
        "id": "eEKyAThJHudL"
      }
    },
    {
      "cell_type": "code",
      "source": [
        "nilai = int(input(\"Masukkan nilai ujian: \"))\n",
        "if nilai >= 60:\n",
        "    print(\"Anda LULUS\")\n",
        "else:\n",
        "    print(\"Anda TIDAK LULUS\")"
      ],
      "metadata": {
        "colab": {
          "base_uri": "https://localhost:8080/"
        },
        "id": "samarKosHzJp",
        "outputId": "66a61dd1-5173-4f43-d08b-3efce2e44618"
      },
      "execution_count": 2,
      "outputs": [
        {
          "output_type": "stream",
          "name": "stdout",
          "text": [
            "Masukkan nilai ujian: 50\n",
            "Anda TIDAK LULUS\n"
          ]
        }
      ]
    },
    {
      "cell_type": "markdown",
      "source": [
        "#If-Elif-Else (Grade)"
      ],
      "metadata": {
        "id": "1KfT1fRrIZRr"
      }
    },
    {
      "cell_type": "code",
      "source": [
        "nilai = int(input(\"Masukkan nilai akhir: \"))\n",
        "\n",
        "if nilai >= 85:\n",
        "    grade = \"A\"\n",
        "elif nilai >= 70:\n",
        "    grade = \"B\"\n",
        "elif nilai >= 55:\n",
        "    grade = \"C\"\n",
        "elif nilai >= 40:\n",
        "    grade = \"D\"\n",
        "else:\n",
        "    grade = \"E\"\n",
        "\n",
        "print(f\"Nilai Anda {nilai}, maka grade Anda = {grade}\")"
      ],
      "metadata": {
        "colab": {
          "base_uri": "https://localhost:8080/"
        },
        "id": "AkNShG5iIfeF",
        "outputId": "76723bdc-3ef0-4ca8-df4d-c8fee8c4e3eb"
      },
      "execution_count": 4,
      "outputs": [
        {
          "output_type": "stream",
          "name": "stdout",
          "text": [
            "Masukkan nilai akhir: 78\n",
            "Nilai Anda 78, maka grade Anda = B\n"
          ]
        }
      ]
    },
    {
      "cell_type": "markdown",
      "source": [
        "#Nested If (Beasiswa)"
      ],
      "metadata": {
        "id": "_hzlbYkQJ3Ay"
      }
    },
    {
      "cell_type": "code",
      "source": [
        "ipk = float(input(\"Masukkan IPK: \"))\n",
        "sks = int(input(\"Masukkan jumlah SKS: \"))\n",
        "\n",
        "if ipk >= 3.0:\n",
        "    if sks >= 18:\n",
        "        print(\"Anda LAYAK mendapat beasiswa\")\n",
        "    else:\n",
        "        print(\"IPK memenuhi, tapi SKS kurang\")\n",
        "else:\n",
        "    print(\"Anda TIDAK layak mendapat beasiswa\")"
      ],
      "metadata": {
        "colab": {
          "base_uri": "https://localhost:8080/"
        },
        "id": "3ytqaYyUJ6cQ",
        "outputId": "26eb3123-8eb1-4ee4-eb9e-49443db16c58"
      },
      "execution_count": 6,
      "outputs": [
        {
          "output_type": "stream",
          "name": "stdout",
          "text": [
            "Masukkan IPK: 2.8\n",
            "Masukkan jumlah SKS: 20\n",
            "Anda TIDAK layak mendapat beasiswa\n"
          ]
        }
      ]
    },
    {
      "cell_type": "markdown",
      "source": [
        "#Match-Case"
      ],
      "metadata": {
        "id": "XRXF1uuyLeO3"
      }
    },
    {
      "cell_type": "code",
      "source": [
        "menu = int(input(\"Pilih menu (1-3): \"))\n",
        "\n",
        "match menu:\n",
        "    case 1:\n",
        "        print(\"Anda memilih Nasi Goreng\")\n",
        "    case 2:\n",
        "        print(\"Anda memilih Mie Ayam\")\n",
        "    case 3:\n",
        "        print(\"Anda memilih Soto Ayam\")\n",
        "    case _:\n",
        "        print(\"Menu tidak tersedia\")"
      ],
      "metadata": {
        "colab": {
          "base_uri": "https://localhost:8080/"
        },
        "id": "HGcmqoA7Li_a",
        "outputId": "0a16b830-dcc0-41c2-ffe2-e5010345ac36"
      },
      "execution_count": 14,
      "outputs": [
        {
          "output_type": "stream",
          "name": "stdout",
          "text": [
            "Pilih menu (1-3): 9\n",
            "Menu tidak tersedia\n"
          ]
        }
      ]
    },
    {
      "cell_type": "markdown",
      "source": [
        "#Studi Kaus: Program Kasir"
      ],
      "metadata": {
        "id": "TFpMMb01M8w8"
      }
    },
    {
      "cell_type": "code",
      "source": [
        "barang = input (\"Masukkan nama barang: \")\n",
        "harga = float(input(\"Masukkan harga barang: \"))\n",
        "jumlah = int(input(\"Masukkan jumlah barang: \"))\n",
        "\n",
        "total = harga * jumlah\n",
        "\n",
        "if total >= 500000:\n",
        "    diskon = 0.2\n",
        "elif total >= 250000:\n",
        "    diskon = 0.1\n",
        "else:\n",
        "    diskon = 0\n",
        "\n",
        "bayar = total - (total * diskon)\n",
        "\n",
        "print(\"\\n===== Struk Belanja =====\")\n",
        "print(f\"Barang : {barang}\")\n",
        "print(f\"Jumlah : {jumlah}\")\n",
        "print(f\"Total  : Rp {total}\")\n",
        "print(f\"Diskon : {diskon*100}%\")\n",
        "print(f\"Bayar  : Rp {bayar}\")"
      ],
      "metadata": {
        "colab": {
          "base_uri": "https://localhost:8080/"
        },
        "id": "-c7XNH9PNE7N",
        "outputId": "fde66eb8-f56b-4b4b-e90d-55dadab00f17"
      },
      "execution_count": 18,
      "outputs": [
        {
          "output_type": "stream",
          "name": "stdout",
          "text": [
            "Masukkan nama barang: Pulpen\n",
            "Masukkan harga barang: 5000\n",
            "Masukkan jumlah barang: 10\n",
            "\n",
            "===== Struk Belanja =====\n",
            "Barang : Pulpen\n",
            "Jumlah : 10\n",
            "Total  : Rp 50000.0\n",
            "Diskon : 0%\n",
            "Bayar  : Rp 50000.0\n"
          ]
        }
      ]
    },
    {
      "cell_type": "markdown",
      "source": [
        "#Cek Bilangan Positif/Negatif/Nol"
      ],
      "metadata": {
        "id": "tTljOgxrcTpk"
      }
    },
    {
      "cell_type": "code",
      "source": [
        "bilangan = int(input(\"Masukkan sebuah bilangan: \"))\n",
        "\n",
        "if bilangan > 0:\n",
        "    print(\"Bilangan positif\")\n",
        "elif bilangan < 0:\n",
        "    print(\"Bilangan negatif\")\n",
        "else:\n",
        "    print(\"Bilangan nol\")"
      ],
      "metadata": {
        "colab": {
          "base_uri": "https://localhost:8080/"
        },
        "id": "rFtE6R7Ichx_",
        "outputId": "001e142e-2ea8-41bd-d181-ec4d8634f148"
      },
      "execution_count": 21,
      "outputs": [
        {
          "output_type": "stream",
          "name": "stdout",
          "text": [
            "Masukkan sebuah bilangan: 34\n",
            "Bilangan positif\n"
          ]
        }
      ]
    },
    {
      "cell_type": "markdown",
      "source": [
        "#Menentukan Kategori Usia"
      ],
      "metadata": {
        "id": "gXf65eURevKo"
      }
    },
    {
      "cell_type": "code",
      "source": [
        "umur = int(input(\"Masukkan umur: \"))\n",
        "\n",
        "if umur < 5:\n",
        "    print(\"Kategori: Balita\")\n",
        "elif umur <= 11:\n",
        "    print(\"Kategori: Anak-anak\")\n",
        "elif umur <= 17:\n",
        "    print(\"Kategori: Remaja\")\n",
        "elif umur <= 59:\n",
        "    print(\"Kategori: Dewasa\")\n",
        "else:\n",
        "    print(\"Kategori: Lansia\")"
      ],
      "metadata": {
        "colab": {
          "base_uri": "https://localhost:8080/"
        },
        "id": "lKE9y6Zpe1Uz",
        "outputId": "aa90e1b0-704d-40f9-a6b0-f5be8914f02f"
      },
      "execution_count": 22,
      "outputs": [
        {
          "output_type": "stream",
          "name": "stdout",
          "text": [
            "Masukkan umur: 19\n",
            "Kategori: Dewasa\n"
          ]
        }
      ]
    },
    {
      "cell_type": "markdown",
      "source": [
        "#Hitung Tarif Parkir"
      ],
      "metadata": {
        "id": "QzUEfM-vfyAt"
      }
    },
    {
      "cell_type": "code",
      "source": [
        "jam = int(input(\"Masukkan lama parkir (jam): \"))\n",
        "\n",
        "if jam <= 2:\n",
        "    tarif = 5000\n",
        "elif jam > 2 and jam * 2000 + 3000 < 20000:\n",
        "    tarif = 5000 + (jam - 2) * 2000\n",
        "else:\n",
        "    tarif = 20000\n",
        "\n",
        "print(f\"Total tarif parkir: Rp {tarif}\")"
      ],
      "metadata": {
        "colab": {
          "base_uri": "https://localhost:8080/"
        },
        "id": "TNmR9S41f6rf",
        "outputId": "a37ce308-847c-4e72-d263-5bcb12ac26a7"
      },
      "execution_count": 23,
      "outputs": [
        {
          "output_type": "stream",
          "name": "stdout",
          "text": [
            "Masukkan lama parkir (jam): 8\n",
            "Total tarif parkir: Rp 17000\n"
          ]
        }
      ]
    },
    {
      "cell_type": "markdown",
      "source": [
        "#Cek Login Sederhana"
      ],
      "metadata": {
        "id": "qnyMxT1rg3xc"
      }
    },
    {
      "cell_type": "code",
      "source": [
        "username = input(\"Masukkan username: \")\n",
        "password = input(\"Masukkan password: \")\n",
        "\n",
        "if username == \"admin\" and password == \"1234\":\n",
        "    print(\"Login berhasil\")\n",
        "else:\n",
        "    print(\"Login gagal\")"
      ],
      "metadata": {
        "colab": {
          "base_uri": "https://localhost:8080/"
        },
        "id": "WpKd92l-g_78",
        "outputId": "94e72a60-2226-479c-d5cd-0e59ae8fd0ba"
      },
      "execution_count": 24,
      "outputs": [
        {
          "output_type": "stream",
          "name": "stdout",
          "text": [
            "Masukkan username: admin\n",
            "Masukkan password: 1234\n",
            "Login berhasil\n"
          ]
        }
      ]
    },
    {
      "cell_type": "markdown",
      "source": [
        "#One-Liner If(Cek Genap/Ganjil)"
      ],
      "metadata": {
        "id": "f9XgWoAKhh-t"
      }
    },
    {
      "cell_type": "code",
      "source": [
        "angka = int(input(\"Masukkan sebuah bilangan: \"))\n",
        "print(\"Genap\" if angka % 2 == 0 else \"Ganjil\")"
      ],
      "metadata": {
        "colab": {
          "base_uri": "https://localhost:8080/"
        },
        "id": "rDdYGw2ohqVK",
        "outputId": "0a6c8335-8c30-4f5a-ba13-cb11a8bd20a9"
      },
      "execution_count": 25,
      "outputs": [
        {
          "output_type": "stream",
          "name": "stdout",
          "text": [
            "Masukkan sebuah bilangan: 14\n",
            "Genap\n"
          ]
        }
      ]
    },
    {
      "cell_type": "markdown",
      "source": [
        "#Menu Restoran dengan Match-Case"
      ],
      "metadata": {
        "id": "Z6RNN9LOihjK"
      }
    },
    {
      "cell_type": "code",
      "source": [
        "pilihan = int(input(\"Pilih menu (1-3): \"))\n",
        "\n",
        "match pilihan:\n",
        "    case 1:\n",
        "        print(\"Nasi Goreng\")\n",
        "    case 2:\n",
        "        print(\"Mie Ayam\")\n",
        "    case 3:\n",
        "        print(\"Soto Ayam\")\n",
        "    case _:\n",
        "        print(\"Menu tidak tersedia\")"
      ],
      "metadata": {
        "colab": {
          "base_uri": "https://localhost:8080/"
        },
        "id": "gPfoHld0imu4",
        "outputId": "1329a1bb-fb6a-4bb6-e078-281db7d3648e"
      },
      "execution_count": 26,
      "outputs": [
        {
          "output_type": "stream",
          "name": "stdout",
          "text": [
            "Pilih menu (1-3): 2\n",
            "Mie Ayam\n"
          ]
        }
      ]
    },
    {
      "cell_type": "markdown",
      "source": [
        "#Studi Kasus Nyata - Program Penentuan Diskon"
      ],
      "metadata": {
        "id": "0Ikr_Rm1i7Gh"
      }
    },
    {
      "cell_type": "code",
      "source": [
        "\n",
        "nama_barang = input(\"Masukkan nama barang: \")\n",
        "jumlah = int(input(\"Masukkan jumlah barang: \"))\n",
        "harga = float(input(\"Masukkan harga satuan: \"))\n",
        "\n",
        "total = jumlah * harga\n",
        "\n",
        "if total >= 500000:\n",
        "    diskon = 0.2\n",
        "elif total >= 250000:\n",
        "    diskon = 0.1\n",
        "else:\n",
        "    diskon = 0\n",
        "\n",
        "potongan = total * diskon\n",
        "total_bayar = total - potongan\n",
        "\n",
        "print(\"\\n=== Struk Belanja ===\")\n",
        "print(f\"Nama Barang : {nama_barang}\")\n",
        "print(f\"Jumlah      : {jumlah}\")\n",
        "print(f\"Harga       : Rp {harga:,.0f}\")\n",
        "print(f\"Total       : Rp {total:,.0f}\")\n",
        "print(f\"Diskon      : {diskon * 100:.0f}%\")\n",
        "print(f\"Potongan    : Rp {potongan:,.0f}\")\n",
        "print(f\"Total Bayar : Rp {total_bayar:,.0f}\")"
      ],
      "metadata": {
        "colab": {
          "base_uri": "https://localhost:8080/"
        },
        "id": "v37zuLa1jdch",
        "outputId": "4a2c67b0-1887-4747-f53a-ed7c73521ef3"
      },
      "execution_count": 27,
      "outputs": [
        {
          "output_type": "stream",
          "name": "stdout",
          "text": [
            "Masukkan nama barang: Skincare\n",
            "Masukkan jumlah barang: 6\n",
            "Masukkan harga satuan: 42000\n",
            "\n",
            "=== Struk Belanja ===\n",
            "Nama Barang : Skincare\n",
            "Jumlah      : 6\n",
            "Harga       : Rp 42,000\n",
            "Total       : Rp 252,000\n",
            "Diskon      : 10%\n",
            "Potongan    : Rp 25,200\n",
            "Total Bayar : Rp 226,800\n"
          ]
        }
      ]
    }
  ]
}