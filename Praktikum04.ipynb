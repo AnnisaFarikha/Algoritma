{
  "nbformat": 4,
  "nbformat_minor": 0,
  "metadata": {
    "colab": {
      "provenance": [],
      "authorship_tag": "ABX9TyNNmcyZWdKbpwlNSGjyHZEC",
      "include_colab_link": true
    },
    "kernelspec": {
      "name": "python3",
      "display_name": "Python 3"
    },
    "language_info": {
      "name": "python"
    }
  },
  "cells": [
    {
      "cell_type": "markdown",
      "metadata": {
        "id": "view-in-github",
        "colab_type": "text"
      },
      "source": [
        "<a href=\"https://colab.research.google.com/github/AnnisaFarikha/Algoritma/blob/main/Praktikum04.ipynb\" target=\"_parent\"><img src=\"https://colab.research.google.com/assets/colab-badge.svg\" alt=\"Open In Colab\"/></a>"
      ]
    },
    {
      "cell_type": "markdown",
      "source": [
        "#Perulangan For dengan Range"
      ],
      "metadata": {
        "id": "l1aEDYZglX1R"
      }
    },
    {
      "cell_type": "code",
      "source": [
        "for i in range(1, 5):\n",
        "    print(i)"
      ],
      "metadata": {
        "colab": {
          "base_uri": "https://localhost:8080/"
        },
        "id": "VnKlVvLQlerh",
        "outputId": "5eeaa933-e59c-4c39-8e83-75d858ad068d"
      },
      "execution_count": null,
      "outputs": [
        {
          "output_type": "stream",
          "name": "stdout",
          "text": [
            "1\n",
            "2\n",
            "3\n",
            "4\n"
          ]
        }
      ]
    },
    {
      "cell_type": "markdown",
      "source": [
        "#Perulangan While"
      ],
      "metadata": {
        "id": "cVmqpvMc-UEC"
      }
    },
    {
      "cell_type": "code",
      "source": [
        "n = int(input(\"Masukkan angka: \"))\n",
        "while n > 0:\n",
        "    print(n)\n",
        "    n -= 1"
      ],
      "metadata": {
        "colab": {
          "base_uri": "https://localhost:8080/"
        },
        "id": "WaT0L4Bw-bmL",
        "outputId": "df55a3fe-6060-4432-df91-0f8258d35a14"
      },
      "execution_count": null,
      "outputs": [
        {
          "output_type": "stream",
          "name": "stdout",
          "text": [
            "Masukkan angka: 5\n",
            "5\n",
            "4\n",
            "3\n",
            "2\n",
            "1\n"
          ]
        }
      ]
    },
    {
      "cell_type": "markdown",
      "source": [
        "#Nested Loop (Segitiga Bintang)"
      ],
      "metadata": {
        "id": "WeXkbK_h_3Xd"
      }
    },
    {
      "cell_type": "code",
      "source": [
        "for i in range(1, 5):\n",
        "    for j in range(i):\n",
        "        print(\"*\", end=\"\")\n",
        "    print()"
      ],
      "metadata": {
        "colab": {
          "base_uri": "https://localhost:8080/"
        },
        "id": "e4aVa_AQARz1",
        "outputId": "2d687c45-ecc2-42f8-d543-8feb8e28bcce"
      },
      "execution_count": null,
      "outputs": [
        {
          "output_type": "stream",
          "name": "stdout",
          "text": [
            "*\n",
            "**\n",
            "***\n",
            "****\n"
          ]
        }
      ]
    },
    {
      "cell_type": "markdown",
      "source": [
        "#Break dan Continue"
      ],
      "metadata": {
        "id": "MjoKYNEiBJKq"
      }
    },
    {
      "cell_type": "code",
      "source": [
        "for i in range(1, 10):\n",
        "    if i == 5:\n",
        "        print(\"Angka 5 ditemukan\")\n",
        "        break"
      ],
      "metadata": {
        "colab": {
          "base_uri": "https://localhost:8080/"
        },
        "id": "_uqZDYbEBMTu",
        "outputId": "30043c65-55e6-4ed4-f5eb-ef161dd3abe2"
      },
      "execution_count": 3,
      "outputs": [
        {
          "output_type": "stream",
          "name": "stdout",
          "text": [
            "Angka 5 ditemukan\n"
          ]
        }
      ]
    },
    {
      "cell_type": "code",
      "source": [
        "for i in range(1, 5):\n",
        "    if i % 2 == 1:\n",
        "        continue\n",
        "    print(i)"
      ],
      "metadata": {
        "colab": {
          "base_uri": "https://localhost:8080/"
        },
        "id": "QPWo1bNlUM2x",
        "outputId": "cd1e423f-88f3-43b1-eb23-ecdf63c76836"
      },
      "execution_count": 4,
      "outputs": [
        {
          "output_type": "stream",
          "name": "stdout",
          "text": [
            "2\n",
            "4\n"
          ]
        }
      ]
    },
    {
      "cell_type": "markdown",
      "source": [
        "#For pada Dictionary"
      ],
      "metadata": {
        "id": "YstXOaxMVJ7q"
      }
    },
    {
      "cell_type": "code",
      "source": [
        "data = {\"Nama\": \"Andi\", \"Umur\": 20, \"Prodi\": \"TRK\"}\n",
        "\n",
        "for k, v in data.items():\n",
        "    print(k, \":\", v)"
      ],
      "metadata": {
        "colab": {
          "base_uri": "https://localhost:8080/"
        },
        "id": "jHGj7RhNVWdG",
        "outputId": "93ee90ee-b7b6-476f-9740-02ac9f05d7af"
      },
      "execution_count": 6,
      "outputs": [
        {
          "output_type": "stream",
          "name": "stdout",
          "text": [
            "Nama : Andi\n",
            "Umur : 20\n",
            "Prodi : TRK\n"
          ]
        }
      ]
    },
    {
      "cell_type": "markdown",
      "source": [
        "#For dengan Enumerate"
      ],
      "metadata": {
        "id": "SrEjwPpUX8kA"
      }
    },
    {
      "cell_type": "code",
      "source": [
        "daftar = [\"Andi\", \"Budi\", \"Cici\"]\n",
        "\n",
        "for i, nama in enumerate(daftar, start=1):\n",
        "    print(i, nama)"
      ],
      "metadata": {
        "colab": {
          "base_uri": "https://localhost:8080/"
        },
        "id": "ivEfu3hoYAOj",
        "outputId": "7917c96e-e735-4920-b1f6-6a6c74d87060"
      },
      "execution_count": 7,
      "outputs": [
        {
          "output_type": "stream",
          "name": "stdout",
          "text": [
            "1 Andi\n",
            "2 Budi\n",
            "3 Cici\n"
          ]
        }
      ]
    },
    {
      "cell_type": "markdown",
      "source": [
        "#Kasir Multi-Item"
      ],
      "metadata": {
        "id": "ETkpxLawZZIa"
      }
    },
    {
      "cell_type": "code",
      "source": [
        "total = 0\n",
        "\n",
        "while True:\n",
        "    barang = input(\"Masukkan nama barang (ketik 'selesai' untuk berhenti): \")\n",
        "    if barang.lower() == \"selesai\":\n",
        "        break\n",
        "    harga = float(input(f\"Masukkan harga {barang}: \"))\n",
        "    jumlah = int(input(f\"Masukkan jumlah {barang}: \"))\n",
        "    subtotal = harga * jumlah\n",
        "    total += subtotal\n",
        "\n",
        "print(\"\\n===== Struk Belanja =====\")\n",
        "print(f\"Total Belanja : Rp {total}\")"
      ],
      "metadata": {
        "colab": {
          "base_uri": "https://localhost:8080/"
        },
        "id": "28ImSppeZeJB",
        "outputId": "e6b06a5b-828b-487b-d652-c8f29f04aaab"
      },
      "execution_count": 8,
      "outputs": [
        {
          "output_type": "stream",
          "name": "stdout",
          "text": [
            "Masukkan nama barang (ketik 'selesai' untuk berhenti): Buku\n",
            "Masukkan harga Buku: 50000\n",
            "Masukkan jumlah Buku: 2\n",
            "Masukkan nama barang (ketik 'selesai' untuk berhenti): Pulpen\n",
            "Masukkan harga Pulpen: 5000\n",
            "Masukkan jumlah Pulpen: 3\n",
            "Masukkan nama barang (ketik 'selesai' untuk berhenti): selesai\n",
            "\n",
            "===== Struk Belanja =====\n",
            "Total Belanja : Rp 115000.0\n"
          ]
        }
      ]
    },
    {
      "cell_type": "markdown",
      "source": [
        "#Menampilkan Deret Angka"
      ],
      "metadata": {
        "id": "1cV9Q4KBo-0G"
      }
    },
    {
      "cell_type": "code",
      "source": [
        "for i in range(3, 31, 3):\n",
        "    print(i)"
      ],
      "metadata": {
        "colab": {
          "base_uri": "https://localhost:8080/"
        },
        "id": "JkFOm3JmpQrV",
        "outputId": "adeac84d-7eeb-4fd9-c45b-d3141970044c"
      },
      "execution_count": 9,
      "outputs": [
        {
          "output_type": "stream",
          "name": "stdout",
          "text": [
            "3\n",
            "6\n",
            "9\n",
            "12\n",
            "15\n",
            "18\n",
            "21\n",
            "24\n",
            "27\n",
            "30\n"
          ]
        }
      ]
    },
    {
      "cell_type": "markdown",
      "source": [
        "#Hitung Faktorial"
      ],
      "metadata": {
        "id": "8w_OnzVqprNi"
      }
    },
    {
      "cell_type": "code",
      "source": [
        "n = int(input(\"Masukkan angka: \"))\n",
        "hasil = 1\n",
        "i = 1\n",
        "while i <= n:\n",
        "    hasil *= i\n",
        "    i += 1\n",
        "print(\"Faktorial dari\", n, \"=\", hasil)"
      ],
      "metadata": {
        "colab": {
          "base_uri": "https://localhost:8080/"
        },
        "id": "S1PN_dA2pwlv",
        "outputId": "7a3f1ecb-bdb4-480a-ed8d-84884435be52"
      },
      "execution_count": 10,
      "outputs": [
        {
          "output_type": "stream",
          "name": "stdout",
          "text": [
            "Masukkan angka: 5\n",
            "Faktorial dari 5 = 120\n"
          ]
        }
      ]
    },
    {
      "cell_type": "markdown",
      "source": [
        "#Pola Segitiga Terbalik"
      ],
      "metadata": {
        "id": "N20jKIbVqIgM"
      }
    },
    {
      "cell_type": "code",
      "source": [
        "tinggi = 5\n",
        "for i in range(tinggi, 0, -1):\n",
        "    for j in range(i):\n",
        "        print(\"*\", end=\"\")\n",
        "    print()"
      ],
      "metadata": {
        "colab": {
          "base_uri": "https://localhost:8080/"
        },
        "id": "THLTbSDCqLcE",
        "outputId": "e3e3e0b0-8ded-4789-f1ac-ec669f638206"
      },
      "execution_count": 11,
      "outputs": [
        {
          "output_type": "stream",
          "name": "stdout",
          "text": [
            "*****\n",
            "****\n",
            "***\n",
            "**\n",
            "*\n"
          ]
        }
      ]
    },
    {
      "cell_type": "markdown",
      "source": [
        "#Cari Bilangan Prima dengan Break"
      ],
      "metadata": {
        "id": "m-QppO4xqzq3"
      }
    },
    {
      "cell_type": "code",
      "source": [
        "bil = int(input(\"Masukkan bilangan: \"))\n",
        "\n",
        "if bil > 1:\n",
        "    for i in range(2, bil):\n",
        "        if bil % i == 0:\n",
        "            print(bil, \"bukan bilangan prima.\")\n",
        "            break\n",
        "    else:\n",
        "        print(bil, \"adalah bilangan prima.\")\n",
        "else:\n",
        "    print(bil, \"bukan bilangan prima.\")"
      ],
      "metadata": {
        "colab": {
          "base_uri": "https://localhost:8080/"
        },
        "id": "XdyHZ3kvq4I1",
        "outputId": "348ab7c2-6e38-4a80-db87-0d1c0d572d29"
      },
      "execution_count": 13,
      "outputs": [
        {
          "output_type": "stream",
          "name": "stdout",
          "text": [
            "Masukkan bilangan: 5\n",
            "5 adalah bilangan prima.\n"
          ]
        }
      ]
    },
    {
      "cell_type": "markdown",
      "source": [
        "#Tampilkan Hanya Bilangan Genap dengan Continue"
      ],
      "metadata": {
        "id": "OW1VBNtlrVVV"
      }
    },
    {
      "cell_type": "code",
      "source": [
        "for i in range(1, 21):\n",
        "    if i % 2 != 0:\n",
        "        continue\n",
        "    print(i)"
      ],
      "metadata": {
        "colab": {
          "base_uri": "https://localhost:8080/"
        },
        "id": "PzZ8x0Hwrd6Z",
        "outputId": "ef39851d-5119-49df-c605-07b74d57f6a0"
      },
      "execution_count": 14,
      "outputs": [
        {
          "output_type": "stream",
          "name": "stdout",
          "text": [
            "2\n",
            "4\n",
            "6\n",
            "8\n",
            "10\n",
            "12\n",
            "14\n",
            "16\n",
            "18\n",
            "20\n"
          ]
        }
      ]
    },
    {
      "cell_type": "markdown",
      "source": [
        "#Iterasi Dictionary Mahasiswa"
      ],
      "metadata": {
        "id": "MPq_oFYNrv4C"
      }
    },
    {
      "cell_type": "code",
      "source": [
        "mahasiswa = {\"Nama\": \"Budi\", \"Umur\": 21, \"Prodi\": \"Teknik Komputer\"}\n",
        "\n",
        "for key, value in mahasiswa.items():\n",
        "    print(f\"{key} : {value}\")"
      ],
      "metadata": {
        "colab": {
          "base_uri": "https://localhost:8080/"
        },
        "id": "UZHv4ywGr01m",
        "outputId": "2fb36013-96f4-448a-f3e2-6d76d3bf6ec4"
      },
      "execution_count": 15,
      "outputs": [
        {
          "output_type": "stream",
          "name": "stdout",
          "text": [
            "Nama : Budi\n",
            "Umur : 21\n",
            "Prodi : Teknik Komputer\n"
          ]
        }
      ]
    },
    {
      "cell_type": "markdown",
      "source": [
        "#Enumerate Daftar Barang"
      ],
      "metadata": {
        "id": "XukXKwxzsK8w"
      }
    },
    {
      "cell_type": "code",
      "source": [
        "barang = [\"Buku\", \"Pulpen\", \"Tas\"]\n",
        "\n",
        "for i, item in enumerate(barang, start=1):\n",
        "    print(i, item)"
      ],
      "metadata": {
        "colab": {
          "base_uri": "https://localhost:8080/"
        },
        "id": "eD9Xa2pQsQmh",
        "outputId": "ab7bed3c-b51e-45e4-82a4-1a93eca6d575"
      },
      "execution_count": 16,
      "outputs": [
        {
          "output_type": "stream",
          "name": "stdout",
          "text": [
            "1 Buku\n",
            "2 Pulpen\n",
            "3 Tas\n"
          ]
        }
      ]
    },
    {
      "cell_type": "markdown",
      "source": [
        "#Studi Kasus - Kasir Diskon"
      ],
      "metadata": {
        "id": "hqdCkgoesiGT"
      }
    },
    {
      "cell_type": "code",
      "source": [
        "total = 0\n",
        "\n",
        "while True:\n",
        "    nama = input(\"Masukkan nama barang (ketik 'selesai' untuk berhenti): \")\n",
        "    if nama.lower() == \"selesai\":\n",
        "        break\n",
        "    harga = float(input(\"Masukkan harga barang: Rp \"))\n",
        "    total += harga\n",
        "\n",
        "if total >= 200000:\n",
        "    diskon = total * 0.1\n",
        "else:\n",
        "    diskon = 0\n",
        "\n",
        "total_bayar = total - diskon\n",
        "\n",
        "print(\"\\n===== STRUK BELANJA =====\")\n",
        "print(f\"Total Belanja : Rp {total:,.0f}\")\n",
        "print(f\"Diskon        : Rp {diskon:,.0f}\")\n",
        "print(f\"Total Bayar   : Rp {total_bayar:,.0f}\")\n",
        "print(\"==========================\")"
      ],
      "metadata": {
        "colab": {
          "base_uri": "https://localhost:8080/"
        },
        "id": "Jv7MGKRysnve",
        "outputId": "42978f31-6c43-40df-8a26-b75149b30bca"
      },
      "execution_count": 19,
      "outputs": [
        {
          "output_type": "stream",
          "name": "stdout",
          "text": [
            "Masukkan nama barang (ketik 'selesai' untuk berhenti): Facial Wash\n",
            "Masukkan harga barang: Rp 22000\n",
            "Masukkan nama barang (ketik 'selesai' untuk berhenti): Moisturizer\n",
            "Masukkan harga barang: Rp 32000\n",
            "Masukkan nama barang (ketik 'selesai' untuk berhenti): Sunscreen\n",
            "Masukkan harga barang: Rp 41000\n",
            "Masukkan nama barang (ketik 'selesai' untuk berhenti): Body Lotion\n",
            "Masukkan harga barang: Rp 40000\n",
            "Masukkan nama barang (ketik 'selesai' untuk berhenti): Micellar Water\n",
            "Masukkan harga barang: Rp 35000\n",
            "Masukkan nama barang (ketik 'selesai' untuk berhenti): Sunblock\n",
            "Masukkan harga barang: Rp 44000\n",
            "Masukkan nama barang (ketik 'selesai' untuk berhenti): Kapas\n",
            "Masukkan harga barang: Rp 21000\n",
            "Masukkan nama barang (ketik 'selesai' untuk berhenti): selesai\n",
            "\n",
            "===== STRUK BELANJA =====\n",
            "Total Belanja : Rp 235,000\n",
            "Diskon        : Rp 23,500\n",
            "Total Bayar   : Rp 211,500\n",
            "==========================\n"
          ]
        }
      ]
    }
  ]
}