{
  "nbformat": 4,
  "nbformat_minor": 0,
  "metadata": {
    "colab": {
      "provenance": [],
      "authorship_tag": "ABX9TyMss9SDo16QXQ919xxFbHwB",
      "include_colab_link": true
    },
    "kernelspec": {
      "name": "python3",
      "display_name": "Python 3"
    },
    "language_info": {
      "name": "python"
    }
  },
  "cells": [
    {
      "cell_type": "markdown",
      "metadata": {
        "id": "view-in-github",
        "colab_type": "text"
      },
      "source": [
        "<a href=\"https://colab.research.google.com/github/AnnisaFarikha/Algoritma/blob/main/Praktikum02.ipynb\" target=\"_parent\"><img src=\"https://colab.research.google.com/assets/colab-badge.svg\" alt=\"Open In Colab\"/></a>"
      ]
    },
    {
      "cell_type": "markdown",
      "source": [
        "#Pengenalan Variabel dan Tipe Data"
      ],
      "metadata": {
        "id": "-E_bVWV7ZNSe"
      }
    },
    {
      "cell_type": "code",
      "execution_count": 3,
      "metadata": {
        "colab": {
          "base_uri": "https://localhost:8080/"
        },
        "id": "I9SJx0JXOW6I",
        "outputId": "026ca8cd-813a-4c6f-f65d-354d53aadd1d"
      },
      "outputs": [
        {
          "output_type": "stream",
          "name": "stdout",
          "text": [
            "Umur: 20 -> <class 'int'>\n",
            "Tinggi: 170.5 -> <class 'float'>\n",
            "Nama: Andi -> <class 'str'>\n",
            "Status Mahasiswa: True -> <class 'bool'>\n",
            "Nilai: [80, 85, 90] -> <class 'list'>\n",
            "Koordinat: (10, 20) -> <class 'tuple'>\n",
            "Data Mahasiswa: {'nama': 'Andi', 'umur': 20, 'prodi': 'TRK'} -> <class 'dict'>\n",
            "Hobi: {'musik', 'membaca', 'olahraga'} -> <class 'set'>\n"
          ]
        }
      ],
      "source": [
        "#Integer\n",
        "umur = 20\n",
        "print(\"Umur:\", umur, \"->\", type(umur))\n",
        "\n",
        "#Float\n",
        "tinggi = 170.5\n",
        "print(\"Tinggi:\", tinggi, \"->\", type(tinggi))\n",
        "\n",
        "#String\n",
        "nama = \"Andi\"\n",
        "print(\"Nama:\", nama, \"->\", type(nama))\n",
        "\n",
        "#Boolean\n",
        "is_mahasiswa = True\n",
        "print(\"Status Mahasiswa:\", is_mahasiswa, \"->\", type(is_mahasiswa))\n",
        "\n",
        "#List\n",
        "nilai = [80, 85, 90]\n",
        "print(\"Nilai:\", nilai, \"->\", type(nilai))\n",
        "\n",
        "#Tuple\n",
        "koordinat = (10, 20)\n",
        "print(\"Koordinat:\", koordinat, \"->\", type(koordinat))\n",
        "\n",
        "#Dictionary\n",
        "mahasiswa = {\"nama\": \"Andi\", \"umur\": 20, \"prodi\": \"TRK\"}\n",
        "print(\"Data Mahasiswa:\", mahasiswa, \"->\", type(mahasiswa))\n",
        "\n",
        "#Set\n",
        "hobi = {\"membaca\", \"olahraga\", \"musik\"}\n",
        "print(\"Hobi:\", hobi, \"->\", type(hobi))"
      ]
    },
    {
      "cell_type": "markdown",
      "source": [
        "#Input dan Output Dasar"
      ],
      "metadata": {
        "id": "smwgtvdxZaIS"
      }
    },
    {
      "cell_type": "code",
      "source": [
        "#Input string\n",
        "nama = input(\"Masukkan nama Anda: \")\n",
        "\n",
        "#Input integer\n",
        "umur = int(input(\"Masukkan umur Anda: \"))\n",
        "\n",
        "#Input float\n",
        "tinggi = float(input(\"Masukkan tinggi badan (cm): \"))\n",
        "\n",
        "#Output standar\n",
        "print(\"Halo,\", nama, \"umur Anda:\", umur, \"tahun, tinggi:\", tinggi, \"cm\")\n",
        "\n",
        "#Output degan format()\n",
        "print(\"Halo (0), umur Anda (1) tahun, tinggi (2) cm\".format(nama, umur, tinggi))\n",
        "\n",
        "#Output dengan f-string\n",
        "print(f\"Halo {nama}, umur Anda {umur} tahun, tinggi {tinggi} cm\")"
      ],
      "metadata": {
        "colab": {
          "base_uri": "https://localhost:8080/"
        },
        "id": "mMP7XPSYZWge",
        "outputId": "7628fcf8-0b69-47ad-e20b-b0d4cfc3940c"
      },
      "execution_count": 4,
      "outputs": [
        {
          "output_type": "stream",
          "name": "stdout",
          "text": [
            "Masukkan nama Anda: Nisa\n",
            "Masukkan umur Anda: 18\n",
            "Masukkan tinggi badan (cm): 156\n",
            "Halo, Nisa umur Anda: 18 tahun, tinggi: 156.0 cm\n",
            "Halo (0), umur Anda (1) tahun, tinggi (2) cm\n",
            "Halo Nisa, umur Anda 18 tahun, tinggi 156.0 cm\n"
          ]
        }
      ]
    },
    {
      "cell_type": "markdown",
      "source": [
        "#Operator Aritmatika"
      ],
      "metadata": {
        "id": "z6aGkbljclgX"
      }
    },
    {
      "cell_type": "code",
      "source": [
        "a = 15\n",
        "b = 4\n",
        "\n",
        "print(\"a + b =\", a + b)\n",
        "print(\"a - b =\", a - b)\n",
        "print(\"a * b =\", a * b)\n",
        "print(\"a / b =\", a / b)\n",
        "print(\"a // b =\", a // b)\n",
        "print(\"a % b =\", a % b)\n",
        "print(\"a ** b =\", a ** b)\n",
        "# Hasil program menunjukkan bahwa Python mampu melakukan perhitungan dasar dengan operator yang sederhana dan intuitif."
      ],
      "metadata": {
        "colab": {
          "base_uri": "https://localhost:8080/"
        },
        "id": "bjqGQwN1cq4M",
        "outputId": "8e22bd07-edef-4cc7-dc80-1ea45e0e2c80"
      },
      "execution_count": 6,
      "outputs": [
        {
          "output_type": "stream",
          "name": "stdout",
          "text": [
            "a + b = 19\n",
            "a - b = 11\n",
            "a * b = 60\n",
            "a / b = 3.75\n",
            "a // b = 3\n",
            "a % b = 3\n",
            "a ** b = 50625\n"
          ]
        }
      ]
    },
    {
      "cell_type": "markdown",
      "source": [
        "#Operator Relasional"
      ],
      "metadata": {
        "id": "fITbKzuIfiLd"
      }
    },
    {
      "cell_type": "code",
      "source": [
        "x = 10\n",
        "y = 20\n",
        "\n",
        "print(\"x == y :\", x == y)\n",
        "print(\"x != y :\", x != y)\n",
        "print(\"x < y :\", x < y)\n",
        "print(\"x > y :\", x > y)\n",
        "print(\"x <= y :\", x <= y)\n",
        "print(\"x >= y :\", x >= y)\n",
        "# Dalam kehidupan nyata, operator relasional bisa dipakai untuk mengecek apakah nilai ujian >=60, atau apakah kehadiran mahasiswa memenuhi batas minimal."
      ],
      "metadata": {
        "colab": {
          "base_uri": "https://localhost:8080/"
        },
        "id": "ZEz0ypuvfmfM",
        "outputId": "5ff6f181-d576-4444-cd97-b7a73e6b0ae8"
      },
      "execution_count": 7,
      "outputs": [
        {
          "output_type": "stream",
          "name": "stdout",
          "text": [
            "x == y : False\n",
            "x != y : True\n",
            "x < y : True\n",
            "x > y : False\n",
            "x <= y : True\n",
            "x >= y : False\n"
          ]
        }
      ]
    },
    {
      "cell_type": "markdown",
      "source": [
        "#Operator Logika dengan Studi Kasus Nyata"
      ],
      "metadata": {
        "id": "-zVc1N7Ek6dP"
      }
    },
    {
      "cell_type": "code",
      "source": [
        "#Operator logika dasar\n",
        "a = True\n",
        "b = False\n",
        "\n",
        "print(\"a and b =\", a and b)\n",
        "print(\"a or b =\", a or b)\n",
        "print(\"not a =\", not a)\n",
        "\n",
        "#Studi kasus nyata: kelulusan\n",
        "nilai = int(input(\"Masukkan nilai ujian: \"))\n",
        "hadir = int(input(\"Masukkan jumlah kehadiran: \"))\n",
        "\n",
        "lulus_nilai = nilai >= 60\n",
        "lulus_hadir = hadir >= 12 # dari 16 pertemuan\n",
        "\n",
        "if lulus_nilai and lulus_hadir:\n",
        "    print(\"Status: LULUS\")\n",
        "else:\n",
        "    print(\"Status: TIDAK LULUS\")\n",
        ""
      ],
      "metadata": {
        "colab": {
          "base_uri": "https://localhost:8080/"
        },
        "id": "LgoqNMfhlB5n",
        "outputId": "654fb14c-65f6-4c46-d13e-c10fcb0bb039"
      },
      "execution_count": 8,
      "outputs": [
        {
          "output_type": "stream",
          "name": "stdout",
          "text": [
            "a and b = False\n",
            "a or b = True\n",
            "not a = False\n",
            "Masukkan nilai ujian: 96\n",
            "Masukkan jumlah kehadiran: 14\n",
            "Status: LULUS\n"
          ]
        }
      ]
    },
    {
      "cell_type": "markdown",
      "source": [
        "#Program Kasir Sederhana"
      ],
      "metadata": {
        "id": "AhrTzwJVoFo2"
      }
    },
    {
      "cell_type": "code",
      "source": [
        "barang = input(\"Masukkan nama barang: \")\n",
        "harga = float(input(\"Masukkan harga barang: \"))\n",
        "jumlah = int(input(\"Masukkan jumlah barang: \"))\n",
        "\n",
        "total = harga * jumlah\n",
        "\n",
        "#Aturan diskon\n",
        "if total >= 500000:\n",
        "    diskon = 0.2\n",
        "elif total >= 250000:\n",
        "    diskon = 0.1\n",
        "else:\n",
        "    diskon = 0\n",
        "\n",
        "potongan = total * diskon\n",
        "bayar = total - potongan\n",
        "\n",
        "print(\"\\n===== Struk Belanja =====\")\n",
        "print(f\"Barang : {barang}\")\n",
        "print(f\"Jumlah : {jumlah}\")\n",
        "print(f\"Total  : Rp {total}\")\n",
        "print(f\"Diskon : {diskon * 100}%\")\n",
        "print(f\"Bayar  : Rp {bayar}\")"
      ],
      "metadata": {
        "colab": {
          "base_uri": "https://localhost:8080/"
        },
        "id": "RZqcBYMroJZm",
        "outputId": "1ec033e4-0b89-4a65-cd09-2654ba0c11e3"
      },
      "execution_count": 9,
      "outputs": [
        {
          "output_type": "stream",
          "name": "stdout",
          "text": [
            "Masukkan nama barang: Susu Kotak\n",
            "Masukkan harga barang: 15000\n",
            "Masukkan jumlah barang: 50\n",
            "\n",
            "===== Struk Belanja =====\n",
            "Barang : Susu Kotak\n",
            "Jumlah : 50\n",
            "Total  : Rp 750000.0\n",
            "Diskon : 20.0%\n",
            "Bayar  : Rp 600000.0\n"
          ]
        }
      ]
    },
    {
      "cell_type": "markdown",
      "source": [
        "#Identitas Mahasiswa"
      ],
      "metadata": {
        "id": "Ukq2meLUroyG"
      }
    },
    {
      "cell_type": "code",
      "source": [
        "nama = input(\"Masukkan nama: \")\n",
        "umur = int(input(\"Masukkan umur: \"))\n",
        "tinggi = float(input(\"Masukkan tinggi badan (cm): \"))\n",
        "status_aktif = bool(int(input(\"Apakah status aktif? (1 = True, 0 = False): \")))\n",
        "\n",
        "print(f\"\\n=== Identitas Mahasiswa ===\")\n",
        "print(f\"Nama         : {nama}\")\n",
        "print(f\"Umur         : {umur} tahun\")\n",
        "print(f\"Tinggi Badan : {tinggi} cm\")\n",
        "print(f\"Status Aktif : {status_aktif}\")"
      ],
      "metadata": {
        "colab": {
          "base_uri": "https://localhost:8080/"
        },
        "id": "4yHLNRs1rrUN",
        "outputId": "6bbd1776-7f90-483e-d083-e6c6ed714dcd"
      },
      "execution_count": 1,
      "outputs": [
        {
          "output_type": "stream",
          "name": "stdout",
          "text": [
            "Masukkan nama: Nisa\n",
            "Masukkan umur: 18\n",
            "Masukkan tinggi badan (cm): 156\n",
            "Apakah status aktif? (1 = True, 0 = False): 1\n",
            "\n",
            "=== Identitas Mahasiswa ===\n",
            "Nama         : Nisa\n",
            "Umur         : 18 tahun\n",
            "Tinggi Badan : 156.0 cm\n",
            "Status Aktif : True\n"
          ]
        }
      ]
    },
    {
      "cell_type": "markdown",
      "source": [
        "#Operasi Aritmatika"
      ],
      "metadata": {
        "id": "dWTV0nc070o0"
      }
    },
    {
      "cell_type": "code",
      "source": [
        "a = int(input(\"Masukkan bilangan pertama: \"))\n",
        "b = int(input(\"Masukkan bilangan kedua: \"))\n",
        "\n",
        "print(\"\\n=== Hasil Operasi Aritmatika ===\")\n",
        "print(f\"Penjumlahan : {a + b}\")\n",
        "print(f\"Pengurangan : {a - b}\")\n",
        "print(f\"Perkalian : {a * b}\")\n",
        "print(f\"pembagian : {a / b}\")\n",
        "print(f\"Sisa Bagi (mod) : {a % b}\")\n",
        "print(f\"Pangkat : {a ** b}\")"
      ],
      "metadata": {
        "colab": {
          "base_uri": "https://localhost:8080/"
        },
        "id": "fekvE7G98opW",
        "outputId": "663405bf-a04a-414c-850b-4999d40efeea"
      },
      "execution_count": 2,
      "outputs": [
        {
          "output_type": "stream",
          "name": "stdout",
          "text": [
            "Masukkan bilangan pertama: 26\n",
            "Masukkan bilangan kedua: 8\n",
            "\n",
            "=== Hasil Operasi Aritmatika ===\n",
            "Penjumlahan : 34\n",
            "Pengurangan : 18\n",
            "Perkalian : 208\n",
            "pembagian : 3.25\n",
            "Sisa Bagi (mod) : 2\n",
            "Pangkat : 208827064576\n"
          ]
        }
      ]
    },
    {
      "cell_type": "markdown",
      "source": [
        "#Konversi Nilai"
      ],
      "metadata": {
        "id": "YIMIdW4DAJ6K"
      }
    },
    {
      "cell_type": "code",
      "source": [
        "angka = float(input(\"Masukkan angka desimal: \"))\n",
        "\n",
        "print(\"\\n=== Hasil Konversi Nilai ===\")\n",
        "print(f\"Dalam bentuk integer : {int(angka)}\")\n",
        "print(f\"Dalam bentuk string  : {str(angka)}\")\n",
        "print(f\"Pembulatan 2 digit   : {round(angka, 2)}\")"
      ],
      "metadata": {
        "colab": {
          "base_uri": "https://localhost:8080/"
        },
        "id": "Rrqc3PfLAM3z",
        "outputId": "1bbfda0a-5f33-4d8e-ea3e-f4744d5a7633"
      },
      "execution_count": 7,
      "outputs": [
        {
          "output_type": "stream",
          "name": "stdout",
          "text": [
            "Masukkan angka desimal: 2.608\n",
            "\n",
            "=== Hasil Konversi Nilai ===\n",
            "Dalam bentuk integer : 2\n",
            "Dalam bentuk string  : 2.608\n",
            "Pembulatan 2 digit   : 2.61\n"
          ]
        }
      ]
    },
    {
      "cell_type": "markdown",
      "source": [
        "#Operator Relasional"
      ],
      "metadata": {
        "id": "IEjFoQC7Bo3P"
      }
    },
    {
      "cell_type": "code",
      "source": [
        "x = float(input(\"Masukkan bilangan pertama: \"))\n",
        "y = float(input(\"Masukkan bilangan kedua: \"))\n",
        "\n",
        "print(\"\\n=== Hasil Perbandingan ===\")\n",
        "print(f\"{x} == {y} : {x == y}\")\n",
        "print(f\"{x} != {y} : {x != y}\")\n",
        "print(f\"{x} < {y} : {x < y}\")\n",
        "print(f\"{x} > {y} : {x > y}\")\n",
        "print(f\"{x} <= {y} : {x <= y}\")\n",
        "print(f\"{x} >= {y} : {x >= y}\")"
      ],
      "metadata": {
        "colab": {
          "base_uri": "https://localhost:8080/"
        },
        "id": "N8LCdH3zB6e-",
        "outputId": "dc0b15de-3c7f-44ca-96f2-2a6593278709"
      },
      "execution_count": 8,
      "outputs": [
        {
          "output_type": "stream",
          "name": "stdout",
          "text": [
            "Masukkan bilangan pertama: 128\n",
            "Masukkan bilangan kedua: 926\n",
            "\n",
            "=== Hasil Perbandingan ===\n",
            "128.0 == 926.0 : False\n",
            "128.0 != 926.0 : True\n",
            "128.0 < 926.0 : True\n",
            "128.0 > 926.0 : False\n",
            "128.0 <= 926.0 : True\n",
            "128.0 >= 926.0 : False\n"
          ]
        }
      ]
    },
    {
      "cell_type": "markdown",
      "source": [],
      "metadata": {
        "id": "rJzzMR13Epyh"
      }
    }
  ]
}