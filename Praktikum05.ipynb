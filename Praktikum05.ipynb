{
  "nbformat": 4,
  "nbformat_minor": 0,
  "metadata": {
    "colab": {
      "provenance": [],
      "authorship_tag": "ABX9TyN7XG7l4gJkTp1SiqjeX7Fh",
      "include_colab_link": true
    },
    "kernelspec": {
      "name": "python3",
      "display_name": "Python 3"
    },
    "language_info": {
      "name": "python"
    }
  },
  "cells": [
    {
      "cell_type": "markdown",
      "metadata": {
        "id": "view-in-github",
        "colab_type": "text"
      },
      "source": [
        "<a href=\"https://colab.research.google.com/github/AnnisaFarikha/Algoritma/blob/main/Praktikum05.ipynb\" target=\"_parent\"><img src=\"https://colab.research.google.com/assets/colab-badge.svg\" alt=\"Open In Colab\"/></a>"
      ]
    },
    {
      "cell_type": "markdown",
      "source": [
        "#Indexing dan Slicing"
      ],
      "metadata": {
        "id": "atDKg1JHwNHl"
      }
    },
    {
      "cell_type": "code",
      "source": [
        "teks = \"Politeknik Negeri Semarang\"\n",
        "print(teks[0])    # 'P'\n",
        "print(teks[0:11]) # 'Politeknik'\n",
        "print(teks[-8:])  # 'Semarang'"
      ],
      "metadata": {
        "colab": {
          "base_uri": "https://localhost:8080/"
        },
        "id": "ICZyJzvRwWHB",
        "outputId": "bfb76718-ad2b-4bdb-ddd9-03c3ea6f4cf9"
      },
      "execution_count": null,
      "outputs": [
        {
          "output_type": "stream",
          "name": "stdout",
          "text": [
            "P\n",
            "Politeknik \n",
            "Semarang\n"
          ]
        }
      ]
    },
    {
      "cell_type": "markdown",
      "source": [
        "#Method Bawaan String"
      ],
      "metadata": {
        "id": "snpz7Essxe7D"
      }
    },
    {
      "cell_type": "code",
      "source": [
        "teks = \" Politeknik Negeri Semarang \"\n",
        "print(teks.upper())\n",
        "print(teks.lower())\n",
        "print(teks.title())\n",
        "print(teks.strip())\n",
        "print(teks.split(\" \"))\n",
        "print(\"-\".join([\"Politeknik\", \"Negeri\", \"Semarang\"]))"
      ],
      "metadata": {
        "colab": {
          "base_uri": "https://localhost:8080/"
        },
        "id": "pEvp22-pxiMS",
        "outputId": "4d272293-ba8b-402d-dc65-b6e79183d281"
      },
      "execution_count": null,
      "outputs": [
        {
          "output_type": "stream",
          "name": "stdout",
          "text": [
            " POLITEKNIK NEGERI SEMARANG \n",
            " politeknik negeri semarang \n",
            " Politeknik Negeri Semarang \n",
            "Politeknik Negeri Semarang\n",
            "['', 'Politeknik', 'Negeri', 'Semarang', '']\n",
            "Politeknik-Negeri-Semarang\n"
          ]
        }
      ]
    },
    {
      "cell_type": "markdown",
      "source": [
        "#Validasi Password"
      ],
      "metadata": {
        "id": "PVkOwNVsyY4Z"
      }
    },
    {
      "cell_type": "code",
      "source": [
        "password = input(\"Masukkan password: \")\n",
        "\n",
        "if len(password) >= 8:\n",
        "    print(\"Password valid\")\n",
        "else:\n",
        "    print(\"Password terlalu pendek\")"
      ],
      "metadata": {
        "colab": {
          "base_uri": "https://localhost:8080/"
        },
        "id": "lLeO_fauybUu",
        "outputId": "a0acd2dc-3207-4eba-a704-b3a2d6540525"
      },
      "execution_count": null,
      "outputs": [
        {
          "output_type": "stream",
          "name": "stdout",
          "text": [
            "Masukkan password: abc\n",
            "Password terlalu pendek\n"
          ]
        }
      ]
    },
    {
      "cell_type": "markdown",
      "source": [
        "#String Formatting dengan F-String"
      ],
      "metadata": {
        "id": "vvCYYssqzLkz"
      }
    },
    {
      "cell_type": "code",
      "source": [
        "nama = input(\"Masukkan nama: \")\n",
        "umur = int(input(\"Masukkan umur: \"))\n",
        "\n",
        "print(f\"Nama saya {nama}, umur {umur} tahun.\")"
      ],
      "metadata": {
        "colab": {
          "base_uri": "https://localhost:8080/"
        },
        "id": "jMMJLIhozYGc",
        "outputId": "6cb6b333-b23a-40be-cbec-525a15602fd0"
      },
      "execution_count": null,
      "outputs": [
        {
          "output_type": "stream",
          "name": "stdout",
          "text": [
            "Masukkan nama: Budi\n",
            "Masukkan umur: 21\n",
            "Nama saya Budi, umur 21 tahun.\n"
          ]
        }
      ]
    },
    {
      "cell_type": "markdown",
      "source": [
        "#Operasi dalam F-String"
      ],
      "metadata": {
        "id": "tp2gnbtcEFkf"
      }
    },
    {
      "cell_type": "code",
      "source": [
        "a = int(input(\"Masukkan nilai a: \"))\n",
        "b = int(input(\"Masukkan nilai b: \"))\n",
        "\n",
        "print(f\"Hasil penjumlahan {a}+{b} = {a+b}\")\n",
        "print(f\"Hasil pembagian {a}/{b} = {a/b:.2f}\")"
      ],
      "metadata": {
        "colab": {
          "base_uri": "https://localhost:8080/"
        },
        "id": "AdwlkkEhENaK",
        "outputId": "d05f69f9-878d-4b72-cd58-02a4b3746cee"
      },
      "execution_count": null,
      "outputs": [
        {
          "output_type": "stream",
          "name": "stdout",
          "text": [
            "Masukkan nilai a: 10\n",
            "Masukkan nilai b: 3\n",
            "Hasil penjumlahan 10+3 = 13\n",
            "Hasil pembagian 10/3 = 3.33\n"
          ]
        }
      ]
    },
    {
      "cell_type": "markdown",
      "source": [
        "#Casting String"
      ],
      "metadata": {
        "id": "jYe0Ku5qFSLy"
      }
    },
    {
      "cell_type": "code",
      "source": [
        "angka = 123\n",
        "teks = \"456\"\n",
        "\n",
        "print(\"Nilai: \" + str(angka))\n",
        "print(int(teks) + 10)"
      ],
      "metadata": {
        "colab": {
          "base_uri": "https://localhost:8080/"
        },
        "id": "yRfwffgdFY08",
        "outputId": "ee163104-3f8a-4e8b-9dfc-0192a49b76aa"
      },
      "execution_count": null,
      "outputs": [
        {
          "output_type": "stream",
          "name": "stdout",
          "text": [
            "Nilai: 123\n",
            "466\n"
          ]
        }
      ]
    },
    {
      "cell_type": "markdown",
      "source": [
        "#Studi Kasus Nyata: Analisis Kalimat"
      ],
      "metadata": {
        "id": "0gLtCXeFF9wT"
      }
    },
    {
      "cell_type": "code",
      "source": [
        "kalimat = \"Saya kuliah di Politeknik Negeri Semarang\"\n",
        "daftar_kata = kalimat.split(\" \")\n",
        "\n",
        "print(f\"Jumlah kata: {len(daftar_kata)}\")\n",
        "for i, kata in enumerate(daftar_kata, start=1):\n",
        "    print(i, kata)"
      ],
      "metadata": {
        "colab": {
          "base_uri": "https://localhost:8080/"
        },
        "id": "Wh22TiFeGBzi",
        "outputId": "212727ed-c9c3-44ea-b654-c985ebf55255"
      },
      "execution_count": null,
      "outputs": [
        {
          "output_type": "stream",
          "name": "stdout",
          "text": [
            "Jumlah kata: 6\n",
            "1 Saya\n",
            "2 kuliah\n",
            "3 di\n",
            "4 Politeknik\n",
            "5 Negeri\n",
            "6 Semarang\n"
          ]
        }
      ]
    },
    {
      "cell_type": "markdown",
      "source": [
        "#Indexing dan Slicing"
      ],
      "metadata": {
        "id": "u02JNF6fJRoA"
      }
    },
    {
      "cell_type": "code",
      "source": [
        "kalimat = \"Politeknik Negeri Semarang\"\n",
        "\n",
        "print(\"Huruf pertama:\", kalimat[0])\n",
        "print(\"Huruf terakhir:\", kalimat[-1])\n",
        "print(\"Kata 'Negeri':\", kalimat[11:17])"
      ],
      "metadata": {
        "colab": {
          "base_uri": "https://localhost:8080/"
        },
        "id": "0mRRN-E1JUQ3",
        "outputId": "e0ce0cbc-1d42-4857-e6a2-5eeb29037a1f"
      },
      "execution_count": null,
      "outputs": [
        {
          "output_type": "stream",
          "name": "stdout",
          "text": [
            "Huruf pertama: P\n",
            "Huruf terakhir: g\n",
            "Kata 'Negeri': Negeri\n"
          ]
        }
      ]
    },
    {
      "cell_type": "markdown",
      "source": [
        "#Manipulasi String"
      ],
      "metadata": {
        "id": "A52zIcx2KYMt"
      }
    },
    {
      "cell_type": "code",
      "source": [
        "kalimat = input(\"Masukkan kalimat: \")\n",
        "\n",
        "print(\"Semua huruf kapital:\", kalimat.upper())\n",
        "print(\"Semua huruf kecil:\", kalimat.lower())\n",
        "print(\"Panjang kalimat:\", len(kalimat))"
      ],
      "metadata": {
        "colab": {
          "base_uri": "https://localhost:8080/"
        },
        "id": "sREfg98tKbTE",
        "outputId": "bde86c0d-d44a-44aa-bb96-50dabdc18b92"
      },
      "execution_count": null,
      "outputs": [
        {
          "output_type": "stream",
          "name": "stdout",
          "text": [
            "Masukkan kalimat: Mahasiswi TRK Polines\n",
            "Semua huruf kapital: MAHASISWI TRK POLINES\n",
            "Semua huruf kecil: mahasiswi trk polines\n",
            "Panjang kalimat: 21\n"
          ]
        }
      ]
    },
    {
      "cell_type": "markdown",
      "source": [
        "#Validasi Username"
      ],
      "metadata": {
        "id": "ACvR0K4WLCxW"
      }
    },
    {
      "cell_type": "code",
      "source": [
        "username = input(\"Masukkan username: \")\n",
        "\n",
        "if \" \" in username:\n",
        "    print(\"Error: Username tidak boleh mengandung spasi!\")\n",
        "else:\n",
        "    print(\"Username valid.\")"
      ],
      "metadata": {
        "colab": {
          "base_uri": "https://localhost:8080/"
        },
        "id": "HVcgVCw2LFof",
        "outputId": "655f4a97-ec6d-42b8-dc29-6443a07ee6ca"
      },
      "execution_count": null,
      "outputs": [
        {
          "output_type": "stream",
          "name": "stdout",
          "text": [
            "Masukkan username: admin 123\n",
            "Error: Username tidak boleh mengandung spasi!\n"
          ]
        }
      ]
    },
    {
      "cell_type": "markdown",
      "source": [
        "#String Formatting dengan F-String"
      ],
      "metadata": {
        "id": "1CUj9-xsLgrB"
      }
    },
    {
      "cell_type": "code",
      "source": [
        "nama = input(\"Masukkan nama: \")\n",
        "umur = int(input(\"Masukkan umur: \"))\n",
        "jurusan = input(\"Masukkan jurusan: \")\n",
        "\n",
        "print(f\"\\nNama: {nama}\")\n",
        "print(f\"Umur: {umur}\")\n",
        "print(f\"Jurusan: {jurusan}\")"
      ],
      "metadata": {
        "colab": {
          "base_uri": "https://localhost:8080/"
        },
        "id": "VonA9f7MLmEy",
        "outputId": "d85c2e9c-cb58-421a-be2d-4f1ea6fa6133"
      },
      "execution_count": null,
      "outputs": [
        {
          "output_type": "stream",
          "name": "stdout",
          "text": [
            "Masukkan nama: Andi\n",
            "Masukkan umur: 20\n",
            "Masukkan jurusan: Teknologi Rekayasa Komputer\n",
            "\n",
            "Nama: Andi\n",
            "Umur: 20\n",
            "Jurusan: Teknologi Rekayasa Komputer\n"
          ]
        }
      ]
    },
    {
      "cell_type": "markdown",
      "source": [
        "#Operasi dalam F-String"
      ],
      "metadata": {
        "id": "zlrfbhjVMIcK"
      }
    },
    {
      "cell_type": "code",
      "source": [
        "a = float(input(\"Masukkan bilangan pertama: \"))\n",
        "b = float(input(\"Masukkan bilangan kedua: \"))\n",
        "\n",
        "print(f\"Penjumlahan: {a} + {b} = {a + b}\")\n",
        "print(f\"Perkalian: {a} x {b} = {a * b}\")\n",
        "print(f\"Pembagian: {a} / {b} = {a / b:.3f}\")"
      ],
      "metadata": {
        "colab": {
          "base_uri": "https://localhost:8080/"
        },
        "id": "bycm36z0MM9x",
        "outputId": "2d05ad9f-13df-49e5-cfb2-cb9ec6ab660a"
      },
      "execution_count": null,
      "outputs": [
        {
          "output_type": "stream",
          "name": "stdout",
          "text": [
            "Masukkan bilangan pertama: 26\n",
            "Masukkan bilangan kedua: 8\n",
            "Penjumlahan: 26.0 + 8.0 = 34.0\n",
            "Perkalian: 26.0 x 8.0 = 208.0\n",
            "Pembagian: 26.0 / 8.0 = 3.250\n"
          ]
        }
      ]
    },
    {
      "cell_type": "markdown",
      "source": [
        "#Casting Data"
      ],
      "metadata": {
        "id": "hXwKMhPUMiG-"
      }
    },
    {
      "cell_type": "code",
      "source": [
        "angka_str = input(\"Masukkan angka (string): \")\n",
        "\n",
        "# Ubah ke integer dan hitung kuadratnya\n",
        "angka_int = int(angka_str)\n",
        "print(f\"Kuadrat dari {angka_int} adalah {angka_int ** 2}\")\n",
        "\n",
        "# Ubah ke float dan tampilkan dengan 2 angka di belakang koma\n",
        "angka_float = float(angka_str)\n",
        "print(f\"Angka dalam bentuk float: {angka_float:.2f}\")"
      ],
      "metadata": {
        "colab": {
          "base_uri": "https://localhost:8080/"
        },
        "id": "e2LeuVj-Mlep",
        "outputId": "3ef3d6a7-9956-4e59-8deb-9f16805236eb"
      },
      "execution_count": null,
      "outputs": [
        {
          "output_type": "stream",
          "name": "stdout",
          "text": [
            "Masukkan angka (string): 21\n",
            "Kuadrat dari 21 adalah 441\n",
            "Angka dalam bentuk float: 21.00\n"
          ]
        }
      ]
    },
    {
      "cell_type": "markdown",
      "source": [
        "#Studi Kasus - Analisis Teks"
      ],
      "metadata": {
        "id": "6OlXi6gjNGfw"
      }
    },
    {
      "cell_type": "code",
      "source": [
        "kalimat = input(\"Masukkan sebuah kalimat: \")\n",
        "\n",
        "kata_list = kalimat.split()\n",
        "\n",
        "jumlah_kata = len(kata_list)\n",
        "kata_terpanjang = max(kata_list, key=len)\n",
        "kata_urut = sorted(kata_list)\n",
        "\n",
        "print(\"Jumlah kata:\", jumlah_kata)\n",
        "print(\"Kata terpanjang:\", kata_terpanjang)\n",
        "print(\"Daftar kata urut abjad:\", kata_urut)"
      ],
      "metadata": {
        "colab": {
          "base_uri": "https://localhost:8080/"
        },
        "id": "evWTKbFiNNGu",
        "outputId": "cb7b0866-9ef1-4648-fd4b-99ffc7b0f5c8"
      },
      "execution_count": null,
      "outputs": [
        {
          "output_type": "stream",
          "name": "stdout",
          "text": [
            "Masukkan sebuah kalimat: Saya merupakan mahasiswi polines\n",
            "Jumlah kata: 4\n",
            "Kata terpanjang: merupakan\n",
            "Daftar kata urut abjad: ['Saya', 'mahasiswi', 'merupakan', 'polines']\n"
          ]
        }
      ]
    }
  ]
}